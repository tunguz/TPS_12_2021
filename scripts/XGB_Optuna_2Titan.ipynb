{
 "cells": [
  {
   "cell_type": "code",
   "execution_count": 1,
   "id": "f8f3472b-4c55-4435-8d5e-a24f43e0705f",
   "metadata": {},
   "outputs": [
    {
     "data": {
      "text/plain": [
       "'1.6.0-dev'"
      ]
     },
     "execution_count": 1,
     "metadata": {},
     "output_type": "execute_result"
    }
   ],
   "source": [
    "from dask.distributed import Client\n",
    "from dask_cuda import LocalCUDACluster\n",
    "from dask import dataframe as dd\n",
    "import pandas as pd\n",
    "import numpy as np\n",
    "import xgboost as xgb\n",
    "from sklearn.model_selection import KFold, train_test_split\n",
    "from sklearn.metrics import accuracy_score\n",
    "from sklearn.preprocessing import StandardScaler\n",
    "from sklearn.preprocessing import LabelEncoder\n",
    "import optuna\n",
    "import gc\n",
    "xgb.__version__"
   ]
  },
  {
   "cell_type": "code",
   "execution_count": 2,
   "id": "673824b8-e39e-4e43-ad6b-06aae7aeb034",
   "metadata": {},
   "outputs": [
    {
     "name": "stdout",
     "output_type": "stream",
     "text": [
      "Fri Dec  3 16:17:16 2021       \n",
      "+-----------------------------------------------------------------------------+\n",
      "| NVIDIA-SMI 470.57.02    Driver Version: 470.57.02    CUDA Version: 11.4     |\n",
      "|-------------------------------+----------------------+----------------------+\n",
      "| GPU  Name        Persistence-M| Bus-Id        Disp.A | Volatile Uncorr. ECC |\n",
      "| Fan  Temp  Perf  Pwr:Usage/Cap|         Memory-Usage | GPU-Util  Compute M. |\n",
      "|                               |                      |               MIG M. |\n",
      "|===============================+======================+======================|\n",
      "|   0  NVIDIA TITAN RTX    On   | 00000000:09:00.0 Off |                  N/A |\n",
      "| 40%   48C    P8    29W / 280W |      6MiB / 24220MiB |      0%      Default |\n",
      "|                               |                      |                  N/A |\n",
      "+-------------------------------+----------------------+----------------------+\n",
      "|   1  NVIDIA TITAN RTX    On   | 00000000:41:00.0  On |                  N/A |\n",
      "| 40%   51C    P8    34W / 280W |    367MiB / 24217MiB |      5%      Default |\n",
      "|                               |                      |                  N/A |\n",
      "+-------------------------------+----------------------+----------------------+\n",
      "                                                                               \n",
      "+-----------------------------------------------------------------------------+\n",
      "| Processes:                                                                  |\n",
      "|  GPU   GI   CI        PID   Type   Process name                  GPU Memory |\n",
      "|        ID   ID                                                   Usage      |\n",
      "|=============================================================================|\n",
      "|    0   N/A  N/A      1256      G   /usr/lib/xorg/Xorg                  4MiB |\n",
      "|    1   N/A  N/A      1256      G   /usr/lib/xorg/Xorg                125MiB |\n",
      "|    1   N/A  N/A      1502      G   /usr/bin/gnome-shell               76MiB |\n",
      "|    1   N/A  N/A      2154      G   ...mviewer/tv_bin/TeamViewer       13MiB |\n",
      "|    1   N/A  N/A      3027      G   /usr/lib/firefox/firefox          147MiB |\n",
      "+-----------------------------------------------------------------------------+\n"
     ]
    }
   ],
   "source": [
    "!nvidia-smi"
   ]
  },
  {
   "cell_type": "code",
   "execution_count": 3,
   "id": "5237a615-90c5-4daf-9d8f-c77bccc0c93e",
   "metadata": {},
   "outputs": [],
   "source": [
    "train_x = dd.read_csv('../../TPS_2021/input/tabular-playground-series-dec-2021/xgtrain.csv')\n",
    "test_x = dd.read_csv('../../TPS_2021/input/tabular-playground-series-dec-2021/xgval.csv')"
   ]
  },
  {
   "cell_type": "code",
   "execution_count": 4,
   "id": "4612c1a6-af45-43e3-a534-3cce939bbc95",
   "metadata": {},
   "outputs": [],
   "source": [
    "train_y = train_x['target'] -1 \n",
    "train_x = train_x[train_x.columns.difference(['target'])]\n",
    "\n",
    "test_y = test_x['target'] - 1\n",
    "test_x = test_x[test_x.columns.difference(['target'])]"
   ]
  },
  {
   "cell_type": "code",
   "execution_count": 5,
   "id": "c10daef5-1183-483a-916f-62a66cc46961",
   "metadata": {},
   "outputs": [
    {
     "name": "stderr",
     "output_type": "stream",
     "text": [
      "distributed.preloading - INFO - Import preload module: dask_cuda.initialize\n",
      "distributed.preloading - INFO - Import preload module: dask_cuda.initialize\n"
     ]
    }
   ],
   "source": [
    "cluster = LocalCUDACluster(CUDA_VISIBLE_DEVICES=[0,1])\n",
    "client = Client(cluster)"
   ]
  },
  {
   "cell_type": "code",
   "execution_count": 6,
   "id": "8eba1cd2-4dad-48ef-b0a1-7725a13e8649",
   "metadata": {},
   "outputs": [
    {
     "name": "stdout",
     "output_type": "stream",
     "text": [
      "Fri Dec  3 16:17:20 2021       \n",
      "+-----------------------------------------------------------------------------+\n",
      "| NVIDIA-SMI 470.57.02    Driver Version: 470.57.02    CUDA Version: 11.4     |\n",
      "|-------------------------------+----------------------+----------------------+\n",
      "| GPU  Name        Persistence-M| Bus-Id        Disp.A | Volatile Uncorr. ECC |\n",
      "| Fan  Temp  Perf  Pwr:Usage/Cap|         Memory-Usage | GPU-Util  Compute M. |\n",
      "|                               |                      |               MIG M. |\n",
      "|===============================+======================+======================|\n",
      "|   0  NVIDIA TITAN RTX    On   | 00000000:09:00.0 Off |                  N/A |\n",
      "| 40%   49C    P2    69W / 280W |    326MiB / 24220MiB |      1%      Default |\n",
      "|                               |                      |                  N/A |\n",
      "+-------------------------------+----------------------+----------------------+\n",
      "|   1  NVIDIA TITAN RTX    On   | 00000000:41:00.0  On |                  N/A |\n",
      "| 40%   51C    P2    78W / 280W |    537MiB / 24217MiB |      4%      Default |\n",
      "|                               |                      |                  N/A |\n",
      "+-------------------------------+----------------------+----------------------+\n",
      "                                                                               \n",
      "+-----------------------------------------------------------------------------+\n",
      "| Processes:                                                                  |\n",
      "|  GPU   GI   CI        PID   Type   Process name                  GPU Memory |\n",
      "|        ID   ID                                                   Usage      |\n",
      "|=============================================================================|\n",
      "|    0   N/A  N/A      1256      G   /usr/lib/xorg/Xorg                  4MiB |\n",
      "|    0   N/A  N/A      3739      C   /usr/bin/python3                  159MiB |\n",
      "|    0   N/A  N/A      3831      C   /usr/bin/python3                  159MiB |\n",
      "|    1   N/A  N/A      1256      G   /usr/lib/xorg/Xorg                125MiB |\n",
      "|    1   N/A  N/A      1502      G   /usr/bin/gnome-shell               76MiB |\n",
      "|    1   N/A  N/A      2154      G   ...mviewer/tv_bin/TeamViewer       13MiB |\n",
      "|    1   N/A  N/A      3027      G   /usr/lib/firefox/firefox          155MiB |\n",
      "|    1   N/A  N/A      3830      C   /usr/bin/python3                  159MiB |\n",
      "+-----------------------------------------------------------------------------+\n"
     ]
    }
   ],
   "source": [
    "!nvidia-smi"
   ]
  },
  {
   "cell_type": "code",
   "execution_count": 7,
   "id": "da3f9097-85c4-49f6-a03e-c1968ee1c824",
   "metadata": {},
   "outputs": [
    {
     "data": {
      "text/html": [
       "<table>\n",
       "    <tr>\n",
       "        <td>\n",
       "            <table>\n",
       "                <thead>\n",
       "                    <tr>\n",
       "                        <td> </td>\n",
       "                        <th> Array </th>\n",
       "                        <th> Chunk </th>\n",
       "                    </tr>\n",
       "                </thead>\n",
       "                <tbody>\n",
       "                    \n",
       "                    <tr>\n",
       "                        <th> Bytes </th>\n",
       "                        <td> unknown </td>\n",
       "                        <td> unknown </td>\n",
       "                    </tr>\n",
       "                    \n",
       "                    <tr>\n",
       "                        <th> Shape </th>\n",
       "                        <td> (nan,) </td>\n",
       "                        <td> (nan,) </td>\n",
       "                    </tr>\n",
       "                    <tr>\n",
       "                        <th> Count </th>\n",
       "                        <td> 76 Tasks </td>\n",
       "                        <td> 19 Chunks </td>\n",
       "                    </tr>\n",
       "                    <tr>\n",
       "                    <th> Type </th>\n",
       "                    <td> int64 </td>\n",
       "                    <td> numpy.ndarray </td>\n",
       "                    </tr>\n",
       "                </tbody>\n",
       "            </table>\n",
       "        </td>\n",
       "        <td>\n",
       "        \n",
       "        </td>\n",
       "    </tr>\n",
       "</table>"
      ],
      "text/plain": [
       "dask.array<values, shape=(nan,), dtype=int64, chunksize=(nan,), chunktype=numpy.ndarray>"
      ]
     },
     "execution_count": 7,
     "metadata": {},
     "output_type": "execute_result"
    }
   ],
   "source": [
    "train_y.values"
   ]
  },
  {
   "cell_type": "code",
   "execution_count": 8,
   "id": "33fe7496-2c79-4979-a026-0dedd7197b4d",
   "metadata": {},
   "outputs": [],
   "source": [
    "dtrain = xgb.dask.DaskDMatrix(client, train_x, train_y)"
   ]
  },
  {
   "cell_type": "code",
   "execution_count": 9,
   "id": "a0828b2c-8df4-4098-ad5b-51dab5354bc3",
   "metadata": {},
   "outputs": [],
   "source": [
    "dtest = xgb.dask.DaskDMatrix(client, test_x, test_y)"
   ]
  },
  {
   "cell_type": "code",
   "execution_count": 10,
   "id": "bec0d52c-5142-46cd-b3f4-1947b1fde2b7",
   "metadata": {},
   "outputs": [],
   "source": [
    "num_round = 1000"
   ]
  },
  {
   "cell_type": "code",
   "execution_count": 23,
   "id": "52d92fb4-aeb5-4b30-99aa-3860adf0d34e",
   "metadata": {},
   "outputs": [],
   "source": [
    "def objective(trial):\n",
    "        \n",
    "    params = {\n",
    "        'objective': trial.suggest_categorical('objective',['multi:softprob']), \n",
    "        'num_class': trial.suggest_categorical('num_class',[6]), \n",
    "        'tree_method': trial.suggest_categorical('tree_method',['gpu_hist']),  # 'gpu_hist','hist'\n",
    "        'lambda': trial.suggest_loguniform('lambda',1e-3,10.0),\n",
    "        'alpha': trial.suggest_loguniform('alpha',1e-3,10.0),\n",
    "        'colsample_bytree': trial.suggest_uniform('colsample_bytree', 0.3,1.0),\n",
    "        'subsample': trial.suggest_uniform('subsample', 0.4, 1.0),\n",
    "        'learning_rate': trial.suggest_loguniform('learning_rate', 0.001,0.1),\n",
    "        #'n_estimators': trial.suggest_categorical('n_estimators', [1000]),\n",
    "        'max_depth': trial.suggest_categorical('max_depth', [3,5,7,9,11,13,15,17,20]),\n",
    "        #'random_state': trial.suggest_categorical('random_state', [24,48,2020]),\n",
    "        'min_child_weight': trial.suggest_int('min_child_weight', 1,300),\n",
    "        'eval_metric': trial.suggest_categorical('eval_metric',['mlogloss']),\n",
    "\n",
    "    }\n",
    "\n",
    "    output = xgb.dask.train(client, params, dtrain, num_round)\n",
    "    \n",
    "    booster = output['booster']  # booster is the trained model\n",
    "    booster.set_param({'predictor': 'gpu_predictor'})\n",
    "\n",
    "    predictions = xgb.dask.predict(client, booster, dtest)\n",
    "    \n",
    "    predictions = np.argmax(predictions.compute(), axis=1)\n",
    "\n",
    "    roc = accuracy_score(test_y, predictions)\n",
    "    \n",
    "    return roc"
   ]
  },
  {
   "cell_type": "code",
   "execution_count": 28,
   "id": "841a50de-9fd9-4370-97a8-b8dcba4c5411",
   "metadata": {},
   "outputs": [
    {
     "name": "stderr",
     "output_type": "stream",
     "text": [
      "\u001b[32m[I 2021-12-03 16:39:02,385]\u001b[0m A new study created in RDB with name: dec_2021_test_0\u001b[0m\n"
     ]
    }
   ],
   "source": [
    "study = optuna.create_study(direction='maximize', storage=\"sqlite:///xgb_optuna_tests.db\", study_name=\"dec_2021_test_0\")"
   ]
  },
  {
   "cell_type": "code",
   "execution_count": 29,
   "id": "d8313625-336c-4ba0-8347-d5a2fdaa2004",
   "metadata": {},
   "outputs": [
    {
     "name": "stderr",
     "output_type": "stream",
     "text": [
      "[16:39:31] task [xgboost.dask]:tcp://192.168.1.200:46165 got new rank 0\n",
      "[16:39:31] task [xgboost.dask]:tcp://192.168.1.200:34617 got new rank 1\n",
      "\u001b[32m[I 2021-12-03 16:40:45,308]\u001b[0m Trial 0 finished with value: 0.9286275 and parameters: {'objective': 'multi:softprob', 'num_class': 6, 'tree_method': 'gpu_hist', 'lambda': 0.0010543052269471405, 'alpha': 0.45547901897758103, 'colsample_bytree': 0.48583325031263813, 'subsample': 0.5898352473849167, 'learning_rate': 0.006099803484563795, 'max_depth': 5, 'min_child_weight': 104, 'eval_metric': 'mlogloss'}. Best is trial 0 with value: 0.9286275.\u001b[0m\n",
      "[16:40:45] task [xgboost.dask]:tcp://192.168.1.200:34617 got new rank 0\n",
      "[16:40:45] task [xgboost.dask]:tcp://192.168.1.200:46165 got new rank 1\n",
      "\u001b[32m[I 2021-12-03 16:46:26,158]\u001b[0m Trial 1 finished with value: 0.96010375 and parameters: {'objective': 'multi:softprob', 'num_class': 6, 'tree_method': 'gpu_hist', 'lambda': 0.0017170221867173663, 'alpha': 0.334371331440923, 'colsample_bytree': 0.7517901383752162, 'subsample': 0.7483524229625753, 'learning_rate': 0.009002123522299416, 'max_depth': 15, 'min_child_weight': 78, 'eval_metric': 'mlogloss'}. Best is trial 1 with value: 0.96010375.\u001b[0m\n"
     ]
    },
    {
     "name": "stdout",
     "output_type": "stream",
     "text": [
      "CPU times: user 24.2 s, sys: 8.7 s, total: 32.9 s\n",
      "Wall time: 6min 54s\n"
     ]
    }
   ],
   "source": [
    "%%time\n",
    "study.optimize(objective, n_trials=2)"
   ]
  },
  {
   "cell_type": "code",
   "execution_count": 33,
   "id": "ec879878-5880-4ee2-9798-d63cdc7c8db3",
   "metadata": {},
   "outputs": [],
   "source": [
    "df = study.trials_dataframe(attrs=('number', 'value', 'params', 'state'))"
   ]
  },
  {
   "cell_type": "code",
   "execution_count": 34,
   "id": "73fbf5db-df08-4e70-89e1-39faa4a8234e",
   "metadata": {},
   "outputs": [
    {
     "data": {
      "text/html": [
       "<div>\n",
       "<style scoped>\n",
       "    .dataframe tbody tr th:only-of-type {\n",
       "        vertical-align: middle;\n",
       "    }\n",
       "\n",
       "    .dataframe tbody tr th {\n",
       "        vertical-align: top;\n",
       "    }\n",
       "\n",
       "    .dataframe thead th {\n",
       "        text-align: right;\n",
       "    }\n",
       "</style>\n",
       "<table border=\"1\" class=\"dataframe\">\n",
       "  <thead>\n",
       "    <tr style=\"text-align: right;\">\n",
       "      <th></th>\n",
       "      <th>number</th>\n",
       "      <th>value</th>\n",
       "      <th>params_alpha</th>\n",
       "      <th>params_colsample_bytree</th>\n",
       "      <th>params_eval_metric</th>\n",
       "      <th>params_lambda</th>\n",
       "      <th>params_learning_rate</th>\n",
       "      <th>params_max_depth</th>\n",
       "      <th>params_min_child_weight</th>\n",
       "      <th>params_num_class</th>\n",
       "      <th>params_objective</th>\n",
       "      <th>params_subsample</th>\n",
       "      <th>params_tree_method</th>\n",
       "      <th>state</th>\n",
       "    </tr>\n",
       "  </thead>\n",
       "  <tbody>\n",
       "    <tr>\n",
       "      <th>0</th>\n",
       "      <td>0</td>\n",
       "      <td>0.928628</td>\n",
       "      <td>0.455479</td>\n",
       "      <td>0.485833</td>\n",
       "      <td>mlogloss</td>\n",
       "      <td>0.001054</td>\n",
       "      <td>0.006100</td>\n",
       "      <td>5</td>\n",
       "      <td>104</td>\n",
       "      <td>6</td>\n",
       "      <td>multi:softprob</td>\n",
       "      <td>0.589835</td>\n",
       "      <td>gpu_hist</td>\n",
       "      <td>COMPLETE</td>\n",
       "    </tr>\n",
       "    <tr>\n",
       "      <th>1</th>\n",
       "      <td>1</td>\n",
       "      <td>0.960104</td>\n",
       "      <td>0.334371</td>\n",
       "      <td>0.751790</td>\n",
       "      <td>mlogloss</td>\n",
       "      <td>0.001717</td>\n",
       "      <td>0.009002</td>\n",
       "      <td>15</td>\n",
       "      <td>78</td>\n",
       "      <td>6</td>\n",
       "      <td>multi:softprob</td>\n",
       "      <td>0.748352</td>\n",
       "      <td>gpu_hist</td>\n",
       "      <td>COMPLETE</td>\n",
       "    </tr>\n",
       "  </tbody>\n",
       "</table>\n",
       "</div>"
      ],
      "text/plain": [
       "   number     value  params_alpha  params_colsample_bytree params_eval_metric  \\\n",
       "0       0  0.928628      0.455479                 0.485833           mlogloss   \n",
       "1       1  0.960104      0.334371                 0.751790           mlogloss   \n",
       "\n",
       "   params_lambda  params_learning_rate  params_max_depth  \\\n",
       "0       0.001054              0.006100                 5   \n",
       "1       0.001717              0.009002                15   \n",
       "\n",
       "   params_min_child_weight  params_num_class params_objective  \\\n",
       "0                      104                 6   multi:softprob   \n",
       "1                       78                 6   multi:softprob   \n",
       "\n",
       "   params_subsample params_tree_method     state  \n",
       "0          0.589835           gpu_hist  COMPLETE  \n",
       "1          0.748352           gpu_hist  COMPLETE  "
      ]
     },
     "execution_count": 34,
     "metadata": {},
     "output_type": "execute_result"
    }
   ],
   "source": [
    "df.head()"
   ]
  },
  {
   "cell_type": "code",
   "execution_count": 35,
   "id": "6c5ed7e3-26ad-4c01-bffd-f72beb6c2aa8",
   "metadata": {},
   "outputs": [],
   "source": [
    "df.to_csv('optuna_xgb_output_0.csv', index=False)"
   ]
  },
  {
   "cell_type": "code",
   "execution_count": 36,
   "id": "d0989b4f-79c0-4426-bef0-402a9d4f99c3",
   "metadata": {},
   "outputs": [
    {
     "data": {
      "text/plain": [
       "{'alpha': 0.334371331440923,\n",
       " 'colsample_bytree': 0.7517901383752162,\n",
       " 'eval_metric': 'mlogloss',\n",
       " 'lambda': 0.0017170221867173663,\n",
       " 'learning_rate': 0.009002123522299416,\n",
       " 'max_depth': 15,\n",
       " 'min_child_weight': 78,\n",
       " 'num_class': 6,\n",
       " 'objective': 'multi:softprob',\n",
       " 'subsample': 0.7483524229625753,\n",
       " 'tree_method': 'gpu_hist'}"
      ]
     },
     "execution_count": 36,
     "metadata": {},
     "output_type": "execute_result"
    }
   ],
   "source": [
    "study.best_trial.params"
   ]
  },
  {
   "cell_type": "code",
   "execution_count": null,
   "id": "e122a64f-07a5-455c-a696-fd9137dc1ebc",
   "metadata": {},
   "outputs": [],
   "source": []
  }
 ],
 "metadata": {
  "kernelspec": {
   "display_name": "Python 3 (ipykernel)",
   "language": "python",
   "name": "python3"
  },
  "language_info": {
   "codemirror_mode": {
    "name": "ipython",
    "version": 3
   },
   "file_extension": ".py",
   "mimetype": "text/x-python",
   "name": "python",
   "nbconvert_exporter": "python",
   "pygments_lexer": "ipython3",
   "version": "3.8.10"
  }
 },
 "nbformat": 4,
 "nbformat_minor": 5
}
