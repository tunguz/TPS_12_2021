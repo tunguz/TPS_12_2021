{
 "cells": [
  {
   "cell_type": "code",
   "execution_count": 9,
   "metadata": {},
   "outputs": [],
   "source": [
    "import numpy as np\n",
    "import pandas as pd\n",
    "from sklearn.experimental import enable_hist_gradient_boosting\n",
    "from sklearn.ensemble import HistGradientBoostingClassifier\n",
    "from sklearn.model_selection import KFold, train_test_split\n",
    "from sklearn.metrics import accuracy_score\n",
    "from sklearn.preprocessing import StandardScaler\n",
    "import logging\n",
    "import optuna\n",
    "import gc"
   ]
  },
  {
   "cell_type": "code",
   "execution_count": 5,
   "metadata": {},
   "outputs": [],
   "source": [
    "train_x = pd.read_csv('../../TPS_2021/input/tabular-playground-series-dec-2021/xgtrain.csv')\n",
    "test_x = pd.read_csv('../../TPS_2021/input/tabular-playground-series-dec-2021/xgval.csv')\n",
    "\n",
    "train_x = train_x.replace([np.inf, -np.inf], np.nan)\n",
    "train_y = train_x['target'] \n",
    "train_x = train_x[train_x.columns.difference(['target'])]\n",
    "\n",
    "test_x = test_x.replace([np.inf, -np.inf], np.nan)\n",
    "test_y = test_x['target']\n",
    "test_x = test_x[test_x.columns.difference(['target'])]"
   ]
  },
  {
   "cell_type": "code",
   "execution_count": 42,
   "metadata": {},
   "outputs": [],
   "source": [
    "def objective(trial, train_x=train_x, test_x=test_x, train_y=train_y, test_y=test_y):\n",
    "\n",
    "    params = {\n",
    "        'l2_regularization': trial.suggest_loguniform('l2_regularization',1e-10,10.0),\n",
    "        'early_stopping': trial.suggest_categorical('early_stopping', ['False']),\n",
    "        'learning_rate': trial.suggest_loguniform('learning_rate', 0.001,0.1),\n",
    "        'max_iter': trial.suggest_categorical('max_iter', [1000]),\n",
    "        'max_depth': trial.suggest_int('max_depth', 2,30),\n",
    "        'max_bins': trial.suggest_int('max_bins', 100,255),\n",
    "        'min_samples_leaf': trial.suggest_int('min_samples_leaf', 20,100000),\n",
    "        'max_leaf_nodes': trial.suggest_int('max_leaf_nodes', 20,80),\n",
    "    }\n",
    "\n",
    "    model = HistGradientBoostingClassifier(**params)\n",
    "    model.fit(train_x, train_y)\n",
    "    predictions = model.predict(test_x)\n",
    "    \n",
    "    acc = accuracy_score(test_y, predictions)\n",
    "    \n",
    "    return acc\n"
   ]
  },
  {
   "cell_type": "code",
   "execution_count": 43,
   "metadata": {},
   "outputs": [],
   "source": [
    "logger = logging.getLogger()\n",
    "logger.setLevel(logging.INFO)  # Setup the root logger.\n",
    "logger.addHandler(logging.FileHandler(\"optuna_hgb_output_2.log\", mode=\"w\"))"
   ]
  },
  {
   "cell_type": "code",
   "execution_count": 44,
   "metadata": {},
   "outputs": [],
   "source": [
    "optuna.logging.enable_propagation()  # Propagate logs to the root logger.\n",
    "optuna.logging.disable_default_handler()  # Stop showing logs in sys.stderr."
   ]
  },
  {
   "cell_type": "code",
   "execution_count": 45,
   "metadata": {},
   "outputs": [],
   "source": [
    "study = optuna.create_study(direction='maximize', storage=\"sqlite:///hgb_optuna_tests.db\", study_name=\"dec_2021_test_2_8\")\n",
    "logger.info(\"Start optimization.\")\n",
    "study.optimize(objective, n_trials=2)"
   ]
  },
  {
   "cell_type": "code",
   "execution_count": 46,
   "metadata": {},
   "outputs": [
    {
     "data": {
      "text/html": [
       "<div>\n",
       "<style scoped>\n",
       "    .dataframe tbody tr th:only-of-type {\n",
       "        vertical-align: middle;\n",
       "    }\n",
       "\n",
       "    .dataframe tbody tr th {\n",
       "        vertical-align: top;\n",
       "    }\n",
       "\n",
       "    .dataframe thead th {\n",
       "        text-align: right;\n",
       "    }\n",
       "</style>\n",
       "<table border=\"1\" class=\"dataframe\">\n",
       "  <thead>\n",
       "    <tr style=\"text-align: right;\">\n",
       "      <th></th>\n",
       "      <th>number</th>\n",
       "      <th>value</th>\n",
       "      <th>params_early_stopping</th>\n",
       "      <th>params_l2_regularization</th>\n",
       "      <th>params_learning_rate</th>\n",
       "      <th>params_max_bins</th>\n",
       "      <th>params_max_depth</th>\n",
       "      <th>params_max_iter</th>\n",
       "      <th>params_max_leaf_nodes</th>\n",
       "      <th>params_min_samples_leaf</th>\n",
       "      <th>state</th>\n",
       "    </tr>\n",
       "  </thead>\n",
       "  <tbody>\n",
       "    <tr>\n",
       "      <th>0</th>\n",
       "      <td>0</td>\n",
       "      <td>0.950109</td>\n",
       "      <td>False</td>\n",
       "      <td>0.005616</td>\n",
       "      <td>0.003857</td>\n",
       "      <td>112</td>\n",
       "      <td>17</td>\n",
       "      <td>1000</td>\n",
       "      <td>64</td>\n",
       "      <td>22051</td>\n",
       "      <td>COMPLETE</td>\n",
       "    </tr>\n",
       "    <tr>\n",
       "      <th>1</th>\n",
       "      <td>1</td>\n",
       "      <td>0.939852</td>\n",
       "      <td>False</td>\n",
       "      <td>1.503730</td>\n",
       "      <td>0.009993</td>\n",
       "      <td>115</td>\n",
       "      <td>24</td>\n",
       "      <td>1000</td>\n",
       "      <td>40</td>\n",
       "      <td>89916</td>\n",
       "      <td>COMPLETE</td>\n",
       "    </tr>\n",
       "  </tbody>\n",
       "</table>\n",
       "</div>"
      ],
      "text/plain": [
       "   number     value params_early_stopping  params_l2_regularization  \\\n",
       "0       0  0.950109                 False                  0.005616   \n",
       "1       1  0.939852                 False                  1.503730   \n",
       "\n",
       "   params_learning_rate  params_max_bins  params_max_depth  params_max_iter  \\\n",
       "0              0.003857              112                17             1000   \n",
       "1              0.009993              115                24             1000   \n",
       "\n",
       "   params_max_leaf_nodes  params_min_samples_leaf     state  \n",
       "0                     64                    22051  COMPLETE  \n",
       "1                     40                    89916  COMPLETE  "
      ]
     },
     "execution_count": 46,
     "metadata": {},
     "output_type": "execute_result"
    }
   ],
   "source": [
    "df = study.trials_dataframe(attrs=('number', 'value', 'params', 'state'))\n",
    "df.to_csv('optuna_hgb_output_2.csv', index=False)\n",
    "df.head()"
   ]
  },
  {
   "cell_type": "code",
   "execution_count": 35,
   "metadata": {},
   "outputs": [
    {
     "data": {
      "text/plain": [
       "array([1, 2, 3, 4, 5, 6])"
      ]
     },
     "execution_count": 35,
     "metadata": {},
     "output_type": "execute_result"
    }
   ],
   "source": [
    "np.unique(test_y.values)"
   ]
  },
  {
   "cell_type": "code",
   "execution_count": 36,
   "metadata": {},
   "outputs": [
    {
     "data": {
      "text/plain": [
       "HistGradientBoostingClassifier(max_iter=1)"
      ]
     },
     "execution_count": 36,
     "metadata": {},
     "output_type": "execute_result"
    }
   ],
   "source": [
    "model = HistGradientBoostingClassifier(max_iter=1)\n",
    "model.fit(train_x, train_y)"
   ]
  },
  {
   "cell_type": "code",
   "execution_count": 40,
   "metadata": {},
   "outputs": [
    {
     "data": {
      "text/plain": [
       "array([1, 1, 5, ..., 1, 1, 1])"
      ]
     },
     "execution_count": 40,
     "metadata": {},
     "output_type": "execute_result"
    }
   ],
   "source": [
    "predictions = model.predict(test_x)\n",
    "    \n",
    "predictions "
   ]
  },
  {
   "cell_type": "code",
   "execution_count": 41,
   "metadata": {},
   "outputs": [
    {
     "data": {
      "text/plain": [
       "0.83001375"
      ]
     },
     "execution_count": 41,
     "metadata": {},
     "output_type": "execute_result"
    }
   ],
   "source": [
    "accuracy_score(test_y, predictions)"
   ]
  },
  {
   "cell_type": "code",
   "execution_count": 39,
   "metadata": {},
   "outputs": [
    {
     "data": {
      "text/plain": [
       "0.0041325"
      ]
     },
     "execution_count": 39,
     "metadata": {},
     "output_type": "execute_result"
    }
   ],
   "source": [
    "acc"
   ]
  },
  {
   "cell_type": "code",
   "execution_count": 47,
   "metadata": {},
   "outputs": [],
   "source": [
    "study = optuna.load_study(storage=\"sqlite:///hgb_optuna_tests.db\", study_name=\"dec_2021_test_2_8\")\n",
    "logger.info(\"Start optimization.\")\n",
    "study.optimize(objective, n_trials=100)"
   ]
  },
  {
   "cell_type": "code",
   "execution_count": 48,
   "metadata": {},
   "outputs": [
    {
     "data": {
      "text/html": [
       "<div>\n",
       "<style scoped>\n",
       "    .dataframe tbody tr th:only-of-type {\n",
       "        vertical-align: middle;\n",
       "    }\n",
       "\n",
       "    .dataframe tbody tr th {\n",
       "        vertical-align: top;\n",
       "    }\n",
       "\n",
       "    .dataframe thead th {\n",
       "        text-align: right;\n",
       "    }\n",
       "</style>\n",
       "<table border=\"1\" class=\"dataframe\">\n",
       "  <thead>\n",
       "    <tr style=\"text-align: right;\">\n",
       "      <th></th>\n",
       "      <th>number</th>\n",
       "      <th>value</th>\n",
       "      <th>params_early_stopping</th>\n",
       "      <th>params_l2_regularization</th>\n",
       "      <th>params_learning_rate</th>\n",
       "      <th>params_max_bins</th>\n",
       "      <th>params_max_depth</th>\n",
       "      <th>params_max_iter</th>\n",
       "      <th>params_max_leaf_nodes</th>\n",
       "      <th>params_min_samples_leaf</th>\n",
       "      <th>state</th>\n",
       "    </tr>\n",
       "  </thead>\n",
       "  <tbody>\n",
       "    <tr>\n",
       "      <th>0</th>\n",
       "      <td>0</td>\n",
       "      <td>0.950109</td>\n",
       "      <td>False</td>\n",
       "      <td>5.615559e-03</td>\n",
       "      <td>0.003857</td>\n",
       "      <td>112</td>\n",
       "      <td>17</td>\n",
       "      <td>1000</td>\n",
       "      <td>64</td>\n",
       "      <td>22051</td>\n",
       "      <td>COMPLETE</td>\n",
       "    </tr>\n",
       "    <tr>\n",
       "      <th>1</th>\n",
       "      <td>1</td>\n",
       "      <td>0.939852</td>\n",
       "      <td>False</td>\n",
       "      <td>1.503730e+00</td>\n",
       "      <td>0.009993</td>\n",
       "      <td>115</td>\n",
       "      <td>24</td>\n",
       "      <td>1000</td>\n",
       "      <td>40</td>\n",
       "      <td>89916</td>\n",
       "      <td>COMPLETE</td>\n",
       "    </tr>\n",
       "    <tr>\n",
       "      <th>2</th>\n",
       "      <td>2</td>\n",
       "      <td>0.937650</td>\n",
       "      <td>False</td>\n",
       "      <td>1.437565e-09</td>\n",
       "      <td>0.004745</td>\n",
       "      <td>217</td>\n",
       "      <td>13</td>\n",
       "      <td>1000</td>\n",
       "      <td>36</td>\n",
       "      <td>71714</td>\n",
       "      <td>COMPLETE</td>\n",
       "    </tr>\n",
       "    <tr>\n",
       "      <th>3</th>\n",
       "      <td>3</td>\n",
       "      <td>0.949050</td>\n",
       "      <td>False</td>\n",
       "      <td>6.570549e-07</td>\n",
       "      <td>0.002343</td>\n",
       "      <td>243</td>\n",
       "      <td>30</td>\n",
       "      <td>1000</td>\n",
       "      <td>79</td>\n",
       "      <td>10636</td>\n",
       "      <td>COMPLETE</td>\n",
       "    </tr>\n",
       "    <tr>\n",
       "      <th>4</th>\n",
       "      <td>4</td>\n",
       "      <td>0.948450</td>\n",
       "      <td>False</td>\n",
       "      <td>1.010396e-08</td>\n",
       "      <td>0.050985</td>\n",
       "      <td>232</td>\n",
       "      <td>18</td>\n",
       "      <td>1000</td>\n",
       "      <td>61</td>\n",
       "      <td>73142</td>\n",
       "      <td>COMPLETE</td>\n",
       "    </tr>\n",
       "  </tbody>\n",
       "</table>\n",
       "</div>"
      ],
      "text/plain": [
       "   number     value params_early_stopping  params_l2_regularization  \\\n",
       "0       0  0.950109                 False              5.615559e-03   \n",
       "1       1  0.939852                 False              1.503730e+00   \n",
       "2       2  0.937650                 False              1.437565e-09   \n",
       "3       3  0.949050                 False              6.570549e-07   \n",
       "4       4  0.948450                 False              1.010396e-08   \n",
       "\n",
       "   params_learning_rate  params_max_bins  params_max_depth  params_max_iter  \\\n",
       "0              0.003857              112                17             1000   \n",
       "1              0.009993              115                24             1000   \n",
       "2              0.004745              217                13             1000   \n",
       "3              0.002343              243                30             1000   \n",
       "4              0.050985              232                18             1000   \n",
       "\n",
       "   params_max_leaf_nodes  params_min_samples_leaf     state  \n",
       "0                     64                    22051  COMPLETE  \n",
       "1                     40                    89916  COMPLETE  \n",
       "2                     36                    71714  COMPLETE  \n",
       "3                     79                    10636  COMPLETE  \n",
       "4                     61                    73142  COMPLETE  "
      ]
     },
     "execution_count": 48,
     "metadata": {},
     "output_type": "execute_result"
    }
   ],
   "source": [
    "df = study.trials_dataframe(attrs=('number', 'value', 'params', 'state'))\n",
    "df.to_csv('optuna_hgb_output_2.csv', index=False)\n",
    "df.head()"
   ]
  },
  {
   "cell_type": "code",
   "execution_count": 49,
   "metadata": {},
   "outputs": [
    {
     "data": {
      "text/plain": [
       "0.96216375"
      ]
     },
     "execution_count": 49,
     "metadata": {},
     "output_type": "execute_result"
    }
   ],
   "source": [
    "study.best_value"
   ]
  },
  {
   "cell_type": "code",
   "execution_count": 50,
   "metadata": {},
   "outputs": [
    {
     "data": {
      "text/plain": [
       "{'early_stopping': 'False',\n",
       " 'l2_regularization': 8.31762676496183,\n",
       " 'learning_rate': 0.0277004401573284,\n",
       " 'max_bins': 218,\n",
       " 'max_depth': 28,\n",
       " 'max_iter': 1000,\n",
       " 'max_leaf_nodes': 67,\n",
       " 'min_samples_leaf': 5845}"
      ]
     },
     "execution_count": 50,
     "metadata": {},
     "output_type": "execute_result"
    }
   ],
   "source": [
    "study.best_params"
   ]
  },
  {
   "cell_type": "code",
   "execution_count": null,
   "metadata": {},
   "outputs": [],
   "source": []
  }
 ],
 "metadata": {
  "kernelspec": {
   "display_name": "Python 3",
   "language": "python",
   "name": "python3"
  },
  "language_info": {
   "codemirror_mode": {
    "name": "ipython",
    "version": 3
   },
   "file_extension": ".py",
   "mimetype": "text/x-python",
   "name": "python",
   "nbconvert_exporter": "python",
   "pygments_lexer": "ipython3",
   "version": "3.6.9"
  }
 },
 "nbformat": 4,
 "nbformat_minor": 2
}
