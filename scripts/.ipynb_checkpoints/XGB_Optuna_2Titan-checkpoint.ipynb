{
 "cells": [
  {
   "cell_type": "code",
   "execution_count": 1,
   "id": "f8f3472b-4c55-4435-8d5e-a24f43e0705f",
   "metadata": {},
   "outputs": [
    {
     "data": {
      "text/plain": [
       "'1.6.0-dev'"
      ]
     },
     "execution_count": 1,
     "metadata": {},
     "output_type": "execute_result"
    }
   ],
   "source": [
    "from dask.distributed import Client\n",
    "from dask_cuda import LocalCUDACluster\n",
    "from dask import dataframe as dd\n",
    "import pandas as pd\n",
    "import numpy as np\n",
    "import xgboost as xgb\n",
    "from sklearn.model_selection import KFold, train_test_split\n",
    "from sklearn.metrics import accuracy_score\n",
    "from sklearn.preprocessing import StandardScaler\n",
    "from sklearn.preprocessing import LabelEncoder\n",
    "import optuna\n",
    "import gc\n",
    "xgb.__version__"
   ]
  },
  {
   "cell_type": "code",
   "execution_count": 2,
   "id": "673824b8-e39e-4e43-ad6b-06aae7aeb034",
   "metadata": {},
   "outputs": [
    {
     "name": "stdout",
     "output_type": "stream",
     "text": [
      "Fri Dec  3 16:17:16 2021       \n",
      "+-----------------------------------------------------------------------------+\n",
      "| NVIDIA-SMI 470.57.02    Driver Version: 470.57.02    CUDA Version: 11.4     |\n",
      "|-------------------------------+----------------------+----------------------+\n",
      "| GPU  Name        Persistence-M| Bus-Id        Disp.A | Volatile Uncorr. ECC |\n",
      "| Fan  Temp  Perf  Pwr:Usage/Cap|         Memory-Usage | GPU-Util  Compute M. |\n",
      "|                               |                      |               MIG M. |\n",
      "|===============================+======================+======================|\n",
      "|   0  NVIDIA TITAN RTX    On   | 00000000:09:00.0 Off |                  N/A |\n",
      "| 40%   48C    P8    29W / 280W |      6MiB / 24220MiB |      0%      Default |\n",
      "|                               |                      |                  N/A |\n",
      "+-------------------------------+----------------------+----------------------+\n",
      "|   1  NVIDIA TITAN RTX    On   | 00000000:41:00.0  On |                  N/A |\n",
      "| 40%   51C    P8    34W / 280W |    367MiB / 24217MiB |      5%      Default |\n",
      "|                               |                      |                  N/A |\n",
      "+-------------------------------+----------------------+----------------------+\n",
      "                                                                               \n",
      "+-----------------------------------------------------------------------------+\n",
      "| Processes:                                                                  |\n",
      "|  GPU   GI   CI        PID   Type   Process name                  GPU Memory |\n",
      "|        ID   ID                                                   Usage      |\n",
      "|=============================================================================|\n",
      "|    0   N/A  N/A      1256      G   /usr/lib/xorg/Xorg                  4MiB |\n",
      "|    1   N/A  N/A      1256      G   /usr/lib/xorg/Xorg                125MiB |\n",
      "|    1   N/A  N/A      1502      G   /usr/bin/gnome-shell               76MiB |\n",
      "|    1   N/A  N/A      2154      G   ...mviewer/tv_bin/TeamViewer       13MiB |\n",
      "|    1   N/A  N/A      3027      G   /usr/lib/firefox/firefox          147MiB |\n",
      "+-----------------------------------------------------------------------------+\n"
     ]
    }
   ],
   "source": [
    "!nvidia-smi"
   ]
  },
  {
   "cell_type": "code",
   "execution_count": 3,
   "id": "5237a615-90c5-4daf-9d8f-c77bccc0c93e",
   "metadata": {},
   "outputs": [],
   "source": [
    "train_x = dd.read_csv('../../TPS_2021/input/tabular-playground-series-dec-2021/xgtrain.csv')\n",
    "test_x = dd.read_csv('../../TPS_2021/input/tabular-playground-series-dec-2021/xgval.csv')"
   ]
  },
  {
   "cell_type": "code",
   "execution_count": 4,
   "id": "4612c1a6-af45-43e3-a534-3cce939bbc95",
   "metadata": {},
   "outputs": [],
   "source": [
    "train_y = train_x['target'] -1 \n",
    "train_x = train_x[train_x.columns.difference(['target'])]\n",
    "\n",
    "test_y = test_x['target'] - 1\n",
    "test_x = test_x[test_x.columns.difference(['target'])]"
   ]
  },
  {
   "cell_type": "code",
   "execution_count": 5,
   "id": "c10daef5-1183-483a-916f-62a66cc46961",
   "metadata": {},
   "outputs": [
    {
     "name": "stderr",
     "output_type": "stream",
     "text": [
      "distributed.preloading - INFO - Import preload module: dask_cuda.initialize\n",
      "distributed.preloading - INFO - Import preload module: dask_cuda.initialize\n"
     ]
    }
   ],
   "source": [
    "cluster = LocalCUDACluster(CUDA_VISIBLE_DEVICES=[0,1])\n",
    "client = Client(cluster)"
   ]
  },
  {
   "cell_type": "code",
   "execution_count": 6,
   "id": "8eba1cd2-4dad-48ef-b0a1-7725a13e8649",
   "metadata": {},
   "outputs": [
    {
     "name": "stdout",
     "output_type": "stream",
     "text": [
      "Fri Dec  3 16:17:20 2021       \n",
      "+-----------------------------------------------------------------------------+\n",
      "| NVIDIA-SMI 470.57.02    Driver Version: 470.57.02    CUDA Version: 11.4     |\n",
      "|-------------------------------+----------------------+----------------------+\n",
      "| GPU  Name        Persistence-M| Bus-Id        Disp.A | Volatile Uncorr. ECC |\n",
      "| Fan  Temp  Perf  Pwr:Usage/Cap|         Memory-Usage | GPU-Util  Compute M. |\n",
      "|                               |                      |               MIG M. |\n",
      "|===============================+======================+======================|\n",
      "|   0  NVIDIA TITAN RTX    On   | 00000000:09:00.0 Off |                  N/A |\n",
      "| 40%   49C    P2    69W / 280W |    326MiB / 24220MiB |      1%      Default |\n",
      "|                               |                      |                  N/A |\n",
      "+-------------------------------+----------------------+----------------------+\n",
      "|   1  NVIDIA TITAN RTX    On   | 00000000:41:00.0  On |                  N/A |\n",
      "| 40%   51C    P2    78W / 280W |    537MiB / 24217MiB |      4%      Default |\n",
      "|                               |                      |                  N/A |\n",
      "+-------------------------------+----------------------+----------------------+\n",
      "                                                                               \n",
      "+-----------------------------------------------------------------------------+\n",
      "| Processes:                                                                  |\n",
      "|  GPU   GI   CI        PID   Type   Process name                  GPU Memory |\n",
      "|        ID   ID                                                   Usage      |\n",
      "|=============================================================================|\n",
      "|    0   N/A  N/A      1256      G   /usr/lib/xorg/Xorg                  4MiB |\n",
      "|    0   N/A  N/A      3739      C   /usr/bin/python3                  159MiB |\n",
      "|    0   N/A  N/A      3831      C   /usr/bin/python3                  159MiB |\n",
      "|    1   N/A  N/A      1256      G   /usr/lib/xorg/Xorg                125MiB |\n",
      "|    1   N/A  N/A      1502      G   /usr/bin/gnome-shell               76MiB |\n",
      "|    1   N/A  N/A      2154      G   ...mviewer/tv_bin/TeamViewer       13MiB |\n",
      "|    1   N/A  N/A      3027      G   /usr/lib/firefox/firefox          155MiB |\n",
      "|    1   N/A  N/A      3830      C   /usr/bin/python3                  159MiB |\n",
      "+-----------------------------------------------------------------------------+\n"
     ]
    }
   ],
   "source": [
    "!nvidia-smi"
   ]
  },
  {
   "cell_type": "code",
   "execution_count": 7,
   "id": "da3f9097-85c4-49f6-a03e-c1968ee1c824",
   "metadata": {},
   "outputs": [
    {
     "data": {
      "text/html": [
       "<table>\n",
       "    <tr>\n",
       "        <td>\n",
       "            <table>\n",
       "                <thead>\n",
       "                    <tr>\n",
       "                        <td> </td>\n",
       "                        <th> Array </th>\n",
       "                        <th> Chunk </th>\n",
       "                    </tr>\n",
       "                </thead>\n",
       "                <tbody>\n",
       "                    \n",
       "                    <tr>\n",
       "                        <th> Bytes </th>\n",
       "                        <td> unknown </td>\n",
       "                        <td> unknown </td>\n",
       "                    </tr>\n",
       "                    \n",
       "                    <tr>\n",
       "                        <th> Shape </th>\n",
       "                        <td> (nan,) </td>\n",
       "                        <td> (nan,) </td>\n",
       "                    </tr>\n",
       "                    <tr>\n",
       "                        <th> Count </th>\n",
       "                        <td> 76 Tasks </td>\n",
       "                        <td> 19 Chunks </td>\n",
       "                    </tr>\n",
       "                    <tr>\n",
       "                    <th> Type </th>\n",
       "                    <td> int64 </td>\n",
       "                    <td> numpy.ndarray </td>\n",
       "                    </tr>\n",
       "                </tbody>\n",
       "            </table>\n",
       "        </td>\n",
       "        <td>\n",
       "        \n",
       "        </td>\n",
       "    </tr>\n",
       "</table>"
      ],
      "text/plain": [
       "dask.array<values, shape=(nan,), dtype=int64, chunksize=(nan,), chunktype=numpy.ndarray>"
      ]
     },
     "execution_count": 7,
     "metadata": {},
     "output_type": "execute_result"
    }
   ],
   "source": [
    "train_y.values"
   ]
  },
  {
   "cell_type": "code",
   "execution_count": 8,
   "id": "33fe7496-2c79-4979-a026-0dedd7197b4d",
   "metadata": {},
   "outputs": [],
   "source": [
    "dtrain = xgb.dask.DaskDMatrix(client, train_x, train_y)"
   ]
  },
  {
   "cell_type": "code",
   "execution_count": 9,
   "id": "a0828b2c-8df4-4098-ad5b-51dab5354bc3",
   "metadata": {},
   "outputs": [],
   "source": [
    "dtest = xgb.dask.DaskDMatrix(client, test_x, test_y)"
   ]
  },
  {
   "cell_type": "code",
   "execution_count": 10,
   "id": "bec0d52c-5142-46cd-b3f4-1947b1fde2b7",
   "metadata": {},
   "outputs": [],
   "source": [
    "num_round = 1000"
   ]
  },
  {
   "cell_type": "code",
   "execution_count": 11,
   "id": "52d92fb4-aeb5-4b30-99aa-3860adf0d34e",
   "metadata": {},
   "outputs": [],
   "source": [
    "def objective(trial):\n",
    "        \n",
    "    params = {\n",
    "        'objective': trial.suggest_categorical('objective',['multi:softprob']), \n",
    "        'num_class': trial.suggest_categorical('num_class',[6]), \n",
    "        'tree_method': trial.suggest_categorical('tree_method',['gpu_hist']),  # 'gpu_hist','hist'\n",
    "        'lambda': trial.suggest_loguniform('lambda',1e-3,10.0),\n",
    "        'alpha': trial.suggest_loguniform('alpha',1e-3,10.0),\n",
    "        'colsample_bytree': trial.suggest_uniform('colsample_bytree', 0.3,1.0),\n",
    "        'subsample': trial.suggest_uniform('subsample', 0.4, 1.0),\n",
    "        'learning_rate': trial.suggest_loguniform('learning_rate', 0.001,0.1),\n",
    "        #'n_estimators': trial.suggest_categorical('n_estimators', [1000]),\n",
    "        'max_depth': trial.suggest_categorical('max_depth', [3,5,7,9,11,13,15,17,20]),\n",
    "        #'random_state': trial.suggest_categorical('random_state', [24,48,2020]),\n",
    "        'min_child_weight': trial.suggest_int('min_child_weight', 1,300),\n",
    "        'eval_metric': trial.suggest_categorical('eval_metric',['mlogloss']),\n",
    "\n",
    "    }\n",
    "\n",
    "    output = xgb.dask.train(client, params, dtrain, num_round)\n",
    "    \n",
    "    booster = output['booster']  # booster is the trained model\n",
    "    booster.set_param({'predictor': 'gpu_predictor'})\n",
    "\n",
    "    predictions = xgb.dask.predict(client, booster, dtest)\n",
    "    \n",
    "    predictions = predictions.compute()\n",
    "\n",
    "    roc = accuracy_score(test_y, predictions)\n",
    "    \n",
    "    return roc"
   ]
  },
  {
   "cell_type": "code",
   "execution_count": 12,
   "id": "841a50de-9fd9-4370-97a8-b8dcba4c5411",
   "metadata": {},
   "outputs": [
    {
     "name": "stderr",
     "output_type": "stream",
     "text": [
      "\u001b[32m[I 2021-12-03 16:17:31,708]\u001b[0m A new study created in memory with name: no-name-47345daa-aefe-4e3f-8aa9-ed346ca5b001\u001b[0m\n"
     ]
    }
   ],
   "source": [
    "study = optuna.create_study(direction='maximize')"
   ]
  },
  {
   "cell_type": "code",
   "execution_count": null,
   "id": "d8313625-336c-4ba0-8347-d5a2fdaa2004",
   "metadata": {},
   "outputs": [
    {
     "name": "stderr",
     "output_type": "stream",
     "text": [
      "[16:17:31] task [xgboost.dask]:tcp://192.168.1.200:46165 got new rank 0\n",
      "[16:17:31] task [xgboost.dask]:tcp://192.168.1.200:34617 got new rank 1\n"
     ]
    }
   ],
   "source": [
    "%%time\n",
    "study.optimize(objective, n_trials=2)"
   ]
  },
  {
   "cell_type": "code",
   "execution_count": null,
   "id": "73fbf5db-df08-4e70-89e1-39faa4a8234e",
   "metadata": {},
   "outputs": [],
   "source": []
  }
 ],
 "metadata": {
  "kernelspec": {
   "display_name": "Python 3 (ipykernel)",
   "language": "python",
   "name": "python3"
  },
  "language_info": {
   "codemirror_mode": {
    "name": "ipython",
    "version": 3
   },
   "file_extension": ".py",
   "mimetype": "text/x-python",
   "name": "python",
   "nbconvert_exporter": "python",
   "pygments_lexer": "ipython3",
   "version": "3.8.10"
  }
 },
 "nbformat": 4,
 "nbformat_minor": 5
}
