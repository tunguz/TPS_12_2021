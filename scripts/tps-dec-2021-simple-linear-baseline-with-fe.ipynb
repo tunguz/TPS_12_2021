{
 "cells": [
  {
   "cell_type": "markdown",
   "metadata": {},
   "source": [
    "<a href=\"https://www.kaggle.com/tunguz/tps-dec-2021-simple-linear-baseline-with-fe?scriptVersionId=82609688\" target=\"_blank\"><img align=\"left\" alt=\"Kaggle\" title=\"Open in Kaggle\" src=\"https://kaggle.com/static/images/open-in-kaggle.svg\"></a>"
   ]
  },
  {
   "cell_type": "code",
   "execution_count": 1,
   "metadata": {
    "_cell_guid": "b1076dfc-b9ad-4769-8c92-a6c4dae69d19",
    "_uuid": "8f2839f25d086af736a60e9eeb907d3b93b6e0e5",
    "execution": {
     "iopub.execute_input": "2021-12-17T17:04:01.764004Z",
     "iopub.status.busy": "2021-12-17T17:04:01.762485Z",
     "iopub.status.idle": "2021-12-17T17:04:05.864649Z",
     "shell.execute_reply": "2021-12-17T17:04:05.865081Z",
     "shell.execute_reply.started": "2021-12-17T16:54:57.434322Z"
    },
    "papermill": {
     "duration": 4.124818,
     "end_time": "2021-12-17T17:04:05.865334",
     "exception": false,
     "start_time": "2021-12-17T17:04:01.740516",
     "status": "completed"
    },
    "tags": []
   },
   "outputs": [
    {
     "name": "stdout",
     "output_type": "stream",
     "text": [
      "/kaggle/input/tabular-playground-series-dec-2021/sample_submission.csv\n",
      "/kaggle/input/tabular-playground-series-dec-2021/train.csv\n",
      "/kaggle/input/tabular-playground-series-dec-2021/test.csv\n"
     ]
    }
   ],
   "source": [
    "# This Python 3 environment comes with many helpful analytics libraries installed\n",
    "# It is defined by the kaggle/python Docker image: https://github.com/kaggle/docker-python\n",
    "# For example, here's several helpful packages to load\n",
    "\n",
    "import numpy as np # linear algebra\n",
    "import pandas as pd # data processing, CSV file I/O (e.g. pd.read_csv)\n",
    "from cuml.linear_model import LogisticRegression\n",
    "from cuml.metrics import accuracy_score\n",
    "from sklearn.model_selection import KFold\n",
    "from sklearn.preprocessing import RobustScaler\n",
    "import gc\n",
    "\n",
    "\n",
    "\n",
    "# Input data files are available in the read-only \"../input/\" directory\n",
    "# For example, running this (by clicking run or pressing Shift+Enter) will list all files under the input directory\n",
    "\n",
    "import os\n",
    "for dirname, _, filenames in os.walk('/kaggle/input'):\n",
    "    for filename in filenames:\n",
    "        print(os.path.join(dirname, filename))"
   ]
  },
  {
   "cell_type": "code",
   "execution_count": 2,
   "metadata": {
    "execution": {
     "iopub.execute_input": "2021-12-17T17:04:05.902666Z",
     "iopub.status.busy": "2021-12-17T17:04:05.902165Z",
     "iopub.status.idle": "2021-12-17T17:04:26.440577Z",
     "shell.execute_reply": "2021-12-17T17:04:26.441685Z",
     "shell.execute_reply.started": "2021-12-17T16:55:30.489608Z"
    },
    "papermill": {
     "duration": 20.559347,
     "end_time": "2021-12-17T17:04:26.441911",
     "exception": false,
     "start_time": "2021-12-17T17:04:05.882564",
     "status": "completed"
    },
    "tags": []
   },
   "outputs": [],
   "source": [
    "sample_submission = pd.read_csv('/kaggle/input/tabular-playground-series-dec-2021/sample_submission.csv')\n",
    "train = pd.read_csv('/kaggle/input/tabular-playground-series-dec-2021/train.csv')\n",
    "test = pd.read_csv('/kaggle/input/tabular-playground-series-dec-2021/test.csv')"
   ]
  },
  {
   "cell_type": "code",
   "execution_count": 3,
   "metadata": {
    "execution": {
     "iopub.execute_input": "2021-12-17T17:04:27.196652Z",
     "iopub.status.busy": "2021-12-17T17:04:27.195754Z",
     "iopub.status.idle": "2021-12-17T17:04:27.288043Z",
     "shell.execute_reply": "2021-12-17T17:04:27.289189Z",
     "shell.execute_reply.started": "2021-12-17T16:55:59.640493Z"
    },
    "papermill": {
     "duration": 0.805217,
     "end_time": "2021-12-17T17:04:27.2894",
     "exception": false,
     "start_time": "2021-12-17T17:04:26.484183",
     "status": "completed"
    },
    "tags": []
   },
   "outputs": [],
   "source": [
    "train.drop(columns=['Soil_Type7', 'Soil_Type15', 'Soil_Type1', 'Id'], inplace=True) \n",
    "test.drop(columns=['Soil_Type7', 'Soil_Type15', 'Soil_Type1', 'Id'], inplace=True) "
   ]
  },
  {
   "cell_type": "code",
   "execution_count": 4,
   "metadata": {
    "execution": {
     "iopub.execute_input": "2021-12-17T17:04:27.353369Z",
     "iopub.status.busy": "2021-12-17T17:04:27.352502Z",
     "iopub.status.idle": "2021-12-17T17:06:58.696909Z",
     "shell.execute_reply": "2021-12-17T17:06:58.696163Z",
     "shell.execute_reply.started": "2021-12-17T16:56:43.059135Z"
    },
    "papermill": {
     "duration": 151.382887,
     "end_time": "2021-12-17T17:06:58.697121",
     "exception": false,
     "start_time": "2021-12-17T17:04:27.314234",
     "status": "completed"
    },
    "tags": []
   },
   "outputs": [
    {
     "name": "stdout",
     "output_type": "stream",
     "text": [
      "Mem. usage decreased to 434.88 Mb (75.8% reduction)\n",
      "Mem. usage decreased to 100.14 Mb (77.0% reduction)\n"
     ]
    }
   ],
   "source": [
    "new_names = {\n",
    "    \"Horizontal_Distance_To_Hydrology\": \"x_dist_hydrlgy\",\n",
    "    \"Vertical_Distance_To_Hydrology\": \"y_dist_hydrlgy\",\n",
    "    \"Horizontal_Distance_To_Roadways\": \"x_dist_rdwys\",\n",
    "    \"Horizontal_Distance_To_Fire_Points\": \"x_dist_firepts\"\n",
    "}\n",
    "\n",
    "train.rename(new_names, axis=1, inplace=True)\n",
    "test.rename(new_names, axis=1, inplace=True)\n",
    "\n",
    "train[\"Aspect\"][train[\"Aspect\"] < 0] += 360\n",
    "train[\"Aspect\"][train[\"Aspect\"] > 359] -= 360\n",
    "\n",
    "test[\"Aspect\"][test[\"Aspect\"] < 0] += 360\n",
    "test[\"Aspect\"][test[\"Aspect\"] > 359] -= 360\n",
    "\n",
    "# Manhhattan distance to Hydrology\n",
    "train[\"mnhttn_dist_hydrlgy\"] = np.abs(train[\"x_dist_hydrlgy\"]) + np.abs(train[\"y_dist_hydrlgy\"])\n",
    "test[\"mnhttn_dist_hydrlgy\"] = np.abs(test[\"x_dist_hydrlgy\"]) + np.abs(test[\"y_dist_hydrlgy\"])\n",
    "\n",
    "# Euclidean distance to Hydrology\n",
    "train[\"ecldn_dist_hydrlgy\"] = (train[\"x_dist_hydrlgy\"]**2 + train[\"y_dist_hydrlgy\"]**2)**0.5\n",
    "test[\"ecldn_dist_hydrlgy\"] = (test[\"x_dist_hydrlgy\"]**2 + test[\"y_dist_hydrlgy\"]**2)**0.5\n",
    "\n",
    "train.loc[train[\"Hillshade_9am\"] < 0, \"Hillshade_9am\"] = 0\n",
    "test.loc[test[\"Hillshade_9am\"] < 0, \"Hillshade_9am\"] = 0\n",
    "\n",
    "train.loc[train[\"Hillshade_Noon\"] < 0, \"Hillshade_Noon\"] = 0\n",
    "test.loc[test[\"Hillshade_Noon\"] < 0, \"Hillshade_Noon\"] = 0\n",
    "\n",
    "train.loc[train[\"Hillshade_3pm\"] < 0, \"Hillshade_3pm\"] = 0\n",
    "test.loc[test[\"Hillshade_3pm\"] < 0, \"Hillshade_3pm\"] = 0\n",
    "\n",
    "train.loc[train[\"Hillshade_9am\"] > 255, \"Hillshade_9am\"] = 255\n",
    "test.loc[test[\"Hillshade_9am\"] > 255, \"Hillshade_9am\"] = 255\n",
    "\n",
    "train.loc[train[\"Hillshade_Noon\"] > 255, \"Hillshade_Noon\"] = 255\n",
    "test.loc[test[\"Hillshade_Noon\"] > 255, \"Hillshade_Noon\"] = 255\n",
    "\n",
    "train.loc[train[\"Hillshade_3pm\"] > 255, \"Hillshade_3pm\"] = 255\n",
    "test.loc[test[\"Hillshade_3pm\"] > 255, \"Hillshade_3pm\"] = 255\n",
    "\n",
    "features_Hillshade = ['Hillshade_9am', 'Hillshade_Noon', 'Hillshade_3pm']\n",
    "soil_features = [x for x in train.columns if x.startswith(\"Soil_Type\")]\n",
    "wilderness_features = [x for x in train.columns if x.startswith(\"Wilderness_Area\")]\n",
    "\n",
    "def addFeature(X):\n",
    "    # Thanks @mpwolke : https://www.kaggle.com/mpwolke/tooezy-where-are-you-no-camping-here\n",
    "    X[\"Soil_Count\"] = X[soil_features].apply(sum, axis=1)\n",
    "\n",
    "    # Thanks @yannbarthelemy : https://www.kaggle.com/yannbarthelemy/tps-december-first-simple-feature-engineering\n",
    "    X[\"Wilderness_Area_Count\"] = X[wilderness_features].apply(sum, axis=1)\n",
    "    X[\"Hillshade_mean\"] = X[features_Hillshade].mean(axis=1)\n",
    "    X['amp_Hillshade'] = X[features_Hillshade].max(axis=1) - X[features_Hillshade].min(axis=1)\n",
    "    \n",
    "addFeature(train)\n",
    "addFeature(test)\n",
    "\n",
    "cols = [\n",
    "    \"Elevation\",\n",
    "    \"Aspect\",\n",
    "    \"mnhttn_dist_hydrlgy\",\n",
    "    \"ecldn_dist_hydrlgy\",\n",
    "    \"Slope\",\n",
    "    \"x_dist_hydrlgy\",\n",
    "    \"y_dist_hydrlgy\",\n",
    "    \"x_dist_rdwys\",\n",
    "    \"Hillshade_9am\",\n",
    "    \"Hillshade_Noon\",\n",
    "    \"Hillshade_3pm\",\n",
    "    \"x_dist_firepts\",\n",
    "    \n",
    "    \"Soil_Count\",\"Wilderness_Area_Count\",\"Hillshade_mean\",\"amp_Hillshade\"\n",
    "]\n",
    "\n",
    "scaler = RobustScaler()\n",
    "train[cols] = scaler.fit_transform(train[cols])\n",
    "test[cols] = scaler.transform(test[cols])\n",
    "\n",
    "features = test.columns\n",
    "\n",
    "perm_dict = {1:2, 2:1, 3:3, 4:6, 7:4, 6:5, 5:7,}\n",
    "\n",
    "train['Cover_Type'].replace(perm_dict, inplace=True)\n",
    "\n",
    "train = train[train.Cover_Type !=7]\n",
    "\n",
    "def reduce_mem_usage(df, verbose=True):\n",
    "    numerics = ['int8','int16', 'int32', 'int64', 'float16', 'float32', 'float64']\n",
    "    start_mem = df.memory_usage().sum() / 1024**2\n",
    "\n",
    "    for col in df.columns:\n",
    "        col_type = df[col].dtypes\n",
    "\n",
    "        if col_type in numerics:\n",
    "            c_min = df[col].min()\n",
    "            c_max = df[col].max()\n",
    "\n",
    "            if str(col_type)[:3] == 'int':\n",
    "                if c_min > np.iinfo(np.int8).min and c_max < np.iinfo(np.int8).max:\n",
    "                    df[col] = df[col].astype(np.int8)\n",
    "                elif c_min > np.iinfo(np.int16).min and c_max < np.iinfo(np.int16).max:\n",
    "                    df[col] = df[col].astype(np.int16)\n",
    "                elif c_min > np.iinfo(np.int32).min and c_max < np.iinfo(np.int32).max:\n",
    "                    df[col] = df[col].astype(np.int32)\n",
    "                elif c_min > np.iinfo(np.int64).min and c_max < np.iinfo(np.int64).max:\n",
    "                    df[col] = df[col].astype(np.int64)  \n",
    "            else:\n",
    "                if c_min > np.finfo(np.float32).min and c_max < np.finfo(np.float32).max:\n",
    "                    df[col] = df[col].astype(np.float32)\n",
    "                else:\n",
    "                    df[col] = df[col].astype(np.float64)\n",
    "\n",
    "    end_mem = df.memory_usage().sum() / 1024**2\n",
    "\n",
    "    if verbose:\n",
    "        print('Mem. usage decreased to {:5.2f} Mb ({:.1f}% reduction)'.format(end_mem, 100 * (start_mem - end_mem) / start_mem))\n",
    " \n",
    "    return df\n",
    "\n",
    "train = reduce_mem_usage(train)\n",
    "test = reduce_mem_usage(test)"
   ]
  },
  {
   "cell_type": "code",
   "execution_count": 5,
   "metadata": {
    "execution": {
     "iopub.execute_input": "2021-12-17T17:06:58.73705Z",
     "iopub.status.busy": "2021-12-17T17:06:58.735358Z",
     "iopub.status.idle": "2021-12-17T17:06:59.06299Z",
     "shell.execute_reply": "2021-12-17T17:06:59.062466Z",
     "shell.execute_reply.started": "2021-12-17T16:59:16.223707Z"
    },
    "papermill": {
     "duration": 0.349377,
     "end_time": "2021-12-17T17:06:59.063151",
     "exception": false,
     "start_time": "2021-12-17T17:06:58.713774",
     "status": "completed"
    },
    "tags": []
   },
   "outputs": [],
   "source": [
    "target = train[['Cover_Type']].values\n",
    "train.drop(['Cover_Type'], axis=1, inplace=True)"
   ]
  },
  {
   "cell_type": "code",
   "execution_count": 6,
   "metadata": {
    "execution": {
     "iopub.execute_input": "2021-12-17T17:06:59.107804Z",
     "iopub.status.busy": "2021-12-17T17:06:59.107116Z",
     "iopub.status.idle": "2021-12-17T17:06:59.110436Z",
     "shell.execute_reply": "2021-12-17T17:06:59.110894Z",
     "shell.execute_reply.started": "2021-12-17T16:59:16.553673Z"
    },
    "papermill": {
     "duration": 0.029596,
     "end_time": "2021-12-17T17:06:59.111035",
     "exception": false,
     "start_time": "2021-12-17T17:06:59.081439",
     "status": "completed"
    },
    "tags": []
   },
   "outputs": [
    {
     "data": {
      "text/plain": [
       "{2: 1, 1: 2, 3: 3, 6: 4, 4: 7, 5: 6, 7: 5}"
      ]
     },
     "execution_count": 6,
     "metadata": {},
     "output_type": "execute_result"
    }
   ],
   "source": [
    "inv_perm = {v: k for k, v in perm_dict.items()}\n",
    "inv_perm"
   ]
  },
  {
   "cell_type": "code",
   "execution_count": 7,
   "metadata": {
    "execution": {
     "iopub.execute_input": "2021-12-17T17:06:59.150536Z",
     "iopub.status.busy": "2021-12-17T17:06:59.149195Z",
     "iopub.status.idle": "2021-12-17T17:06:59.157197Z",
     "shell.execute_reply": "2021-12-17T17:06:59.157682Z",
     "shell.execute_reply.started": "2021-12-17T16:59:16.564793Z"
    },
    "papermill": {
     "duration": 0.029926,
     "end_time": "2021-12-17T17:06:59.157815",
     "exception": false,
     "start_time": "2021-12-17T17:06:59.127889",
     "status": "completed"
    },
    "tags": []
   },
   "outputs": [
    {
     "data": {
      "text/plain": [
       "(3999999,)"
      ]
     },
     "execution_count": 7,
     "metadata": {},
     "output_type": "execute_result"
    }
   ],
   "source": [
    "train_oof = np.zeros((train.shape[0],))\n",
    "test_preds = 0\n",
    "train_oof.shape"
   ]
  },
  {
   "cell_type": "code",
   "execution_count": null,
   "metadata": {
    "execution": {
     "iopub.execute_input": "2021-12-17T17:00:11.89695Z",
     "iopub.status.busy": "2021-12-17T17:00:11.896221Z",
     "iopub.status.idle": "2021-12-17T17:00:12.174711Z",
     "shell.execute_reply": "2021-12-17T17:00:12.173981Z",
     "shell.execute_reply.started": "2021-12-17T17:00:11.896911Z"
    },
    "papermill": {
     "duration": 0.018038,
     "end_time": "2021-12-17T17:06:59.193479",
     "exception": false,
     "start_time": "2021-12-17T17:06:59.175441",
     "status": "completed"
    },
    "tags": []
   },
   "outputs": [],
   "source": []
  },
  {
   "cell_type": "code",
   "execution_count": 8,
   "metadata": {
    "execution": {
     "iopub.execute_input": "2021-12-17T17:06:59.236499Z",
     "iopub.status.busy": "2021-12-17T17:06:59.235274Z",
     "iopub.status.idle": "2021-12-17T17:08:08.259916Z",
     "shell.execute_reply": "2021-12-17T17:08:08.260379Z",
     "shell.execute_reply.started": "2021-12-17T17:01:00.432224Z"
    },
    "papermill": {
     "duration": 69.049352,
     "end_time": "2021-12-17T17:08:08.260536",
     "exception": false,
     "start_time": "2021-12-17T17:06:59.211184",
     "status": "completed"
    },
    "tags": []
   },
   "outputs": [
    {
     "name": "stdout",
     "output_type": "stream",
     "text": [
      "Fitting fold 1\n",
      "(array([1, 2, 3, 4, 5, 6], dtype=int8), array([1809273, 1174631,  156645,   49947,    9190,     313]))\n",
      "(array([1, 2, 3, 4, 5, 6], dtype=int8), array([452814, 293505,  39067,  12314,   2236,     64]))\n",
      "[W] [17:07:16.154296] L-BFGS stopped, because the line search failed to advance (step delta = 0.000000)\n",
      "0.9174712300300598\n",
      "Fitting fold 2\n",
      "(array([1, 2, 3, 4, 5, 6], dtype=int8), array([1809862, 1174467,  156700,   49585,    9081,     304]))\n",
      "(array([1, 2, 3, 4, 5, 6], dtype=int8), array([452225, 293669,  39012,  12676,   2345,     73]))\n",
      "[W] [17:07:29.702547] L-BFGS stopped, because the line search failed to advance (step delta = 0.000000)\n",
      "0.9175437688827515\n",
      "Fitting fold 3\n",
      "(array([1, 2, 3, 4, 5, 6], dtype=int8), array([1809638, 1174622,  156524,   49758,    9174,     283]))\n",
      "(array([1, 2, 3, 4, 5, 6], dtype=int8), array([452449, 293514,  39188,  12503,   2252,     94]))\n",
      "[W] [17:07:43.105679] L-BFGS stopped, because the line search failed to advance (step delta = 0.000000)\n",
      "0.9172999858856201\n",
      "Fitting fold 4\n",
      "(array([1, 2, 3, 4, 5, 6], dtype=int8), array([1809852, 1174384,  156341,   49982,    9144,     296]))\n",
      "(array([1, 2, 3, 4, 5, 6], dtype=int8), array([452235, 293752,  39371,  12279,   2282,     81]))\n",
      "[W] [17:07:56.322923] L-BFGS stopped, because the line search failed to advance (step delta = 0.000000)\n",
      "0.9172637462615967\n",
      "Fitting fold 5\n",
      "(array([1, 2, 3, 4, 5, 6], dtype=int8), array([1809723, 1174440,  156638,   49772,    9115,     312]))\n",
      "(array([1, 2, 3, 4, 5, 6], dtype=int8), array([452364, 293696,  39074,  12489,   2311,     65]))\n",
      "[W] [17:08:07.785858] L-BFGS stopped, because the line search failed to advance (step delta = 0.000000)\n",
      "0.9176236391067505\n",
      "CPU times: user 1min 2s, sys: 3.91 s, total: 1min 6s\n",
      "Wall time: 1min 9s\n"
     ]
    }
   ],
   "source": [
    "%%time\n",
    "n_splits = 5\n",
    "kf = KFold(n_splits=n_splits, random_state=7, shuffle=True)\n",
    "\n",
    "for jj, (train_index, val_index) in enumerate(kf.split(train)):\n",
    "    print(\"Fitting fold\", jj+1)\n",
    "    train_features = train.values[train_index,:]\n",
    "    train_target = target[train_index]\n",
    "\n",
    "    \n",
    "    val_features = train.values[val_index,:]\n",
    "    val_target = target[val_index]\n",
    "    print(np.unique(train_target, return_counts=True))\n",
    "    print(np.unique(val_target, return_counts=True))\n",
    "\n",
    "    \n",
    "    model = LogisticRegression(C=1, solver='qn', max_iter=200, tol=0.000000001)\n",
    "    model.fit(train_features, train_target)\n",
    "    val_pred = model.predict(val_features)\n",
    "    train_oof[val_index] = val_pred.flatten()\n",
    "    test_preds += model.predict_proba(test.values)/n_splits\n",
    "    print(accuracy_score(val_target,val_pred))\n",
    "    del model\n",
    "    gc.collect()\n",
    "    gc.collect()"
   ]
  },
  {
   "cell_type": "code",
   "execution_count": 9,
   "metadata": {
    "execution": {
     "iopub.execute_input": "2021-12-17T17:08:08.308887Z",
     "iopub.status.busy": "2021-12-17T17:08:08.308005Z",
     "iopub.status.idle": "2021-12-17T17:08:08.337767Z",
     "shell.execute_reply": "2021-12-17T17:08:08.338197Z",
     "shell.execute_reply.started": "2021-12-17T17:02:21.342621Z"
    },
    "papermill": {
     "duration": 0.057287,
     "end_time": "2021-12-17T17:08:08.338355",
     "exception": false,
     "start_time": "2021-12-17T17:08:08.281068",
     "status": "completed"
    },
    "tags": []
   },
   "outputs": [
    {
     "name": "stdout",
     "output_type": "stream",
     "text": [
      "0.9174404740333557\n"
     ]
    }
   ],
   "source": [
    "print(accuracy_score(target,train_oof))"
   ]
  },
  {
   "cell_type": "code",
   "execution_count": 10,
   "metadata": {
    "execution": {
     "iopub.execute_input": "2021-12-17T17:08:08.387798Z",
     "iopub.status.busy": "2021-12-17T17:08:08.387044Z",
     "iopub.status.idle": "2021-12-17T17:08:08.389663Z",
     "shell.execute_reply": "2021-12-17T17:08:08.390187Z",
     "shell.execute_reply.started": "2021-12-17T17:02:24.922029Z"
    },
    "papermill": {
     "duration": 0.029421,
     "end_time": "2021-12-17T17:08:08.390309",
     "exception": false,
     "start_time": "2021-12-17T17:08:08.360888",
     "status": "completed"
    },
    "tags": []
   },
   "outputs": [
    {
     "data": {
      "text/plain": [
       "array([[4.83984081e-07, 9.98542786e-01, 7.64902739e-04, 4.39791213e-04,\n",
       "        1.28073143e-08, 2.52032274e-04],\n",
       "       [2.01009470e-06, 9.89724755e-01, 1.02712652e-02, 4.11759174e-07,\n",
       "        4.36197837e-07, 1.08640290e-06],\n",
       "       [3.62904620e-06, 9.16071415e-01, 8.39079097e-02, 1.22049695e-08,\n",
       "        1.69222531e-05, 1.14745674e-07],\n",
       "       ...,\n",
       "       [4.45719877e-07, 9.99852717e-01, 1.46700404e-04, 1.29427380e-09,\n",
       "        1.19733095e-08, 4.86754637e-08],\n",
       "       [6.73594514e-11, 1.05780261e-02, 9.84993458e-01, 1.65206644e-14,\n",
       "        4.42853291e-03, 6.09783762e-14],\n",
       "       [2.35316975e-07, 8.94741714e-02, 8.70794494e-08, 9.02931213e-01,\n",
       "        2.53286780e-12, 7.59440940e-03]], dtype=float32)"
      ]
     },
     "execution_count": 10,
     "metadata": {},
     "output_type": "execute_result"
    }
   ],
   "source": [
    "test_preds"
   ]
  },
  {
   "cell_type": "code",
   "execution_count": 11,
   "metadata": {
    "execution": {
     "iopub.execute_input": "2021-12-17T17:08:08.437611Z",
     "iopub.status.busy": "2021-12-17T17:08:08.436815Z",
     "iopub.status.idle": "2021-12-17T17:08:08.453832Z",
     "shell.execute_reply": "2021-12-17T17:08:08.453379Z",
     "shell.execute_reply.started": "2021-12-17T17:02:28.135497Z"
    },
    "papermill": {
     "duration": 0.041388,
     "end_time": "2021-12-17T17:08:08.453934",
     "exception": false,
     "start_time": "2021-12-17T17:08:08.412546",
     "status": "completed"
    },
    "tags": []
   },
   "outputs": [
    {
     "data": {
      "text/plain": [
       "array([1, 1, 1, ..., 1, 2, 3])"
      ]
     },
     "execution_count": 11,
     "metadata": {},
     "output_type": "execute_result"
    }
   ],
   "source": [
    "preds = np.argmax(test_preds, axis=1)\n",
    "preds"
   ]
  },
  {
   "cell_type": "code",
   "execution_count": 12,
   "metadata": {
    "execution": {
     "iopub.execute_input": "2021-12-17T17:08:08.501311Z",
     "iopub.status.busy": "2021-12-17T17:08:08.50056Z",
     "iopub.status.idle": "2021-12-17T17:08:08.523652Z",
     "shell.execute_reply": "2021-12-17T17:08:08.52323Z",
     "shell.execute_reply.started": "2021-12-17T17:02:30.071093Z"
    },
    "papermill": {
     "duration": 0.048256,
     "end_time": "2021-12-17T17:08:08.523756",
     "exception": false,
     "start_time": "2021-12-17T17:08:08.4755",
     "status": "completed"
    },
    "tags": []
   },
   "outputs": [
    {
     "data": {
      "text/plain": [
       "(array([1, 2, 3, 4, 5]), array([501793, 402754,  83988,   8986,   2479]))"
      ]
     },
     "execution_count": 12,
     "metadata": {},
     "output_type": "execute_result"
    }
   ],
   "source": [
    "np.unique(preds, return_counts=True)"
   ]
  },
  {
   "cell_type": "code",
   "execution_count": 13,
   "metadata": {
    "execution": {
     "iopub.execute_input": "2021-12-17T17:08:08.570752Z",
     "iopub.status.busy": "2021-12-17T17:08:08.570207Z",
     "iopub.status.idle": "2021-12-17T17:08:08.573033Z",
     "shell.execute_reply": "2021-12-17T17:08:08.572532Z",
     "shell.execute_reply.started": "2021-12-17T17:02:37.248401Z"
    },
    "papermill": {
     "duration": 0.027638,
     "end_time": "2021-12-17T17:08:08.573157",
     "exception": false,
     "start_time": "2021-12-17T17:08:08.545519",
     "status": "completed"
    },
    "tags": []
   },
   "outputs": [],
   "source": [
    "preds[np.where(preds == 0)[0]] = 1"
   ]
  },
  {
   "cell_type": "code",
   "execution_count": 14,
   "metadata": {
    "execution": {
     "iopub.execute_input": "2021-12-17T17:08:08.621555Z",
     "iopub.status.busy": "2021-12-17T17:08:08.620113Z",
     "iopub.status.idle": "2021-12-17T17:08:08.648929Z",
     "shell.execute_reply": "2021-12-17T17:08:08.64938Z",
     "shell.execute_reply.started": "2021-12-17T17:02:41.418263Z"
    },
    "papermill": {
     "duration": 0.055082,
     "end_time": "2021-12-17T17:08:08.649514",
     "exception": false,
     "start_time": "2021-12-17T17:08:08.594432",
     "status": "completed"
    },
    "tags": []
   },
   "outputs": [
    {
     "data": {
      "text/html": [
       "<div>\n",
       "<style scoped>\n",
       "    .dataframe tbody tr th:only-of-type {\n",
       "        vertical-align: middle;\n",
       "    }\n",
       "\n",
       "    .dataframe tbody tr th {\n",
       "        vertical-align: top;\n",
       "    }\n",
       "\n",
       "    .dataframe thead th {\n",
       "        text-align: right;\n",
       "    }\n",
       "</style>\n",
       "<table border=\"1\" class=\"dataframe\">\n",
       "  <thead>\n",
       "    <tr style=\"text-align: right;\">\n",
       "      <th></th>\n",
       "      <th>Id</th>\n",
       "      <th>Cover_Type</th>\n",
       "    </tr>\n",
       "  </thead>\n",
       "  <tbody>\n",
       "    <tr>\n",
       "      <th>0</th>\n",
       "      <td>4000000</td>\n",
       "      <td>2</td>\n",
       "    </tr>\n",
       "    <tr>\n",
       "      <th>1</th>\n",
       "      <td>4000001</td>\n",
       "      <td>2</td>\n",
       "    </tr>\n",
       "    <tr>\n",
       "      <th>2</th>\n",
       "      <td>4000002</td>\n",
       "      <td>2</td>\n",
       "    </tr>\n",
       "    <tr>\n",
       "      <th>3</th>\n",
       "      <td>4000003</td>\n",
       "      <td>2</td>\n",
       "    </tr>\n",
       "    <tr>\n",
       "      <th>4</th>\n",
       "      <td>4000004</td>\n",
       "      <td>2</td>\n",
       "    </tr>\n",
       "  </tbody>\n",
       "</table>\n",
       "</div>"
      ],
      "text/plain": [
       "        Id  Cover_Type\n",
       "0  4000000           2\n",
       "1  4000001           2\n",
       "2  4000002           2\n",
       "3  4000003           2\n",
       "4  4000004           2"
      ]
     },
     "execution_count": 14,
     "metadata": {},
     "output_type": "execute_result"
    }
   ],
   "source": [
    "sample_submission['Cover_Type'] = preds\n",
    "sample_submission['Cover_Type'].replace(inv_perm, inplace=True)\n",
    "sample_submission.head()"
   ]
  },
  {
   "cell_type": "code",
   "execution_count": 15,
   "metadata": {
    "execution": {
     "iopub.execute_input": "2021-12-17T17:08:08.70068Z",
     "iopub.status.busy": "2021-12-17T17:08:08.699912Z",
     "iopub.status.idle": "2021-12-17T17:08:08.721732Z",
     "shell.execute_reply": "2021-12-17T17:08:08.721301Z",
     "shell.execute_reply.started": "2021-12-17T17:02:45.180866Z"
    },
    "papermill": {
     "duration": 0.049573,
     "end_time": "2021-12-17T17:08:08.721846",
     "exception": false,
     "start_time": "2021-12-17T17:08:08.672273",
     "status": "completed"
    },
    "tags": []
   },
   "outputs": [
    {
     "data": {
      "text/plain": [
       "array([1, 2, 3, 6, 7])"
      ]
     },
     "execution_count": 15,
     "metadata": {},
     "output_type": "execute_result"
    }
   ],
   "source": [
    "np.unique(sample_submission['Cover_Type'].values)"
   ]
  },
  {
   "cell_type": "code",
   "execution_count": null,
   "metadata": {
    "execution": {
     "iopub.execute_input": "2021-12-03T16:11:04.824581Z",
     "iopub.status.busy": "2021-12-03T16:11:04.823874Z",
     "iopub.status.idle": "2021-12-03T16:11:04.834736Z",
     "shell.execute_reply": "2021-12-03T16:11:04.833964Z",
     "shell.execute_reply.started": "2021-12-03T16:11:04.824541Z"
    },
    "papermill": {
     "duration": 0.021712,
     "end_time": "2021-12-17T17:08:08.766568",
     "exception": false,
     "start_time": "2021-12-17T17:08:08.744856",
     "status": "completed"
    },
    "tags": []
   },
   "outputs": [],
   "source": []
  },
  {
   "cell_type": "code",
   "execution_count": 16,
   "metadata": {
    "execution": {
     "iopub.execute_input": "2021-12-17T17:08:08.814335Z",
     "iopub.status.busy": "2021-12-17T17:08:08.813661Z",
     "iopub.status.idle": "2021-12-17T17:08:10.427732Z",
     "shell.execute_reply": "2021-12-17T17:08:10.427231Z",
     "shell.execute_reply.started": "2021-12-03T17:07:39.115024Z"
    },
    "papermill": {
     "duration": 1.639473,
     "end_time": "2021-12-17T17:08:10.427979",
     "exception": false,
     "start_time": "2021-12-17T17:08:08.788506",
     "status": "completed"
    },
    "tags": []
   },
   "outputs": [],
   "source": [
    "sample_submission.to_csv('submission.csv', index=False)\n",
    "\n"
   ]
  },
  {
   "cell_type": "code",
   "execution_count": null,
   "metadata": {
    "execution": {
     "iopub.execute_input": "2021-12-01T17:10:13.215812Z",
     "iopub.status.busy": "2021-12-01T17:10:13.21552Z",
     "iopub.status.idle": "2021-12-01T17:10:13.223621Z",
     "shell.execute_reply": "2021-12-01T17:10:13.222806Z",
     "shell.execute_reply.started": "2021-12-01T17:10:13.215779Z"
    },
    "papermill": {
     "duration": 0.021812,
     "end_time": "2021-12-17T17:08:10.472125",
     "exception": false,
     "start_time": "2021-12-17T17:08:10.450313",
     "status": "completed"
    },
    "tags": []
   },
   "outputs": [],
   "source": []
  },
  {
   "cell_type": "code",
   "execution_count": null,
   "metadata": {
    "execution": {
     "iopub.execute_input": "2021-12-01T17:36:28.259639Z",
     "iopub.status.busy": "2021-12-01T17:36:28.258993Z",
     "iopub.status.idle": "2021-12-01T17:36:28.280096Z",
     "shell.execute_reply": "2021-12-01T17:36:28.278756Z",
     "shell.execute_reply.started": "2021-12-01T17:36:28.259601Z"
    },
    "papermill": {
     "duration": 0.024242,
     "end_time": "2021-12-17T17:08:10.518385",
     "exception": false,
     "start_time": "2021-12-17T17:08:10.494143",
     "status": "completed"
    },
    "tags": []
   },
   "outputs": [],
   "source": []
  },
  {
   "cell_type": "code",
   "execution_count": null,
   "metadata": {
    "papermill": {
     "duration": 0.021714,
     "end_time": "2021-12-17T17:08:10.561864",
     "exception": false,
     "start_time": "2021-12-17T17:08:10.54015",
     "status": "completed"
    },
    "tags": []
   },
   "outputs": [],
   "source": []
  }
 ],
 "metadata": {
  "kernelspec": {
   "display_name": "Python 3",
   "language": "python",
   "name": "python3"
  },
  "language_info": {
   "codemirror_mode": {
    "name": "ipython",
    "version": 3
   },
   "file_extension": ".py",
   "mimetype": "text/x-python",
   "name": "python",
   "nbconvert_exporter": "python",
   "pygments_lexer": "ipython3",
   "version": "3.6.9"
  },
  "papermill": {
   "default_parameters": {},
   "duration": 257.787978,
   "end_time": "2021-12-17T17:08:11.998153",
   "environment_variables": {},
   "exception": null,
   "input_path": "__notebook__.ipynb",
   "output_path": "__notebook__.ipynb",
   "parameters": {},
   "start_time": "2021-12-17T17:03:54.210175",
   "version": "2.3.3"
  }
 },
 "nbformat": 4,
 "nbformat_minor": 5
}
